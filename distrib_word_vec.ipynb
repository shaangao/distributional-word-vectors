{
 "cells": [
  {
   "cell_type": "code",
   "execution_count": 215,
   "metadata": {},
   "outputs": [],
   "source": [
    "import numpy as np\n",
    "import pandas as pd\n",
    "import matplotlib.pyplot as plt\n",
    "import seaborn as sns\n",
    "from scipy.stats import spearmanr\n",
    "from collections import Counter, defaultdict\n",
    "import joblib\n",
    "import math"
   ]
  },
  {
   "cell_type": "markdown",
   "metadata": {},
   "source": [
    "## 1 Distributional Counting"
   ]
  },
  {
   "cell_type": "markdown",
   "metadata": {},
   "source": [
    "### 1.1 implement distributional counting"
   ]
  },
  {
   "cell_type": "code",
   "execution_count": 151,
   "metadata": {},
   "outputs": [],
   "source": [
    "def distrib_counting(doc, w, V, Vc, wv):\n",
    "\n",
    "    \"\"\" \n",
    "    inputs:\n",
    "        - doc: list of words; a **single** document to do distributional counting on\n",
    "        - w: integer; window size\n",
    "        - V: set of words; vocabulary\n",
    "        - Vc: set of words; context vocabulary\n",
    "        - wv: dict of counters; mapping from each V to Vc to counts\n",
    "    outputs: \n",
    "        none. the function mutates wv.\n",
    "    \"\"\"\n",
    "\n",
    "    # sliding window\n",
    "    for i, center in enumerate(doc):\n",
    "\n",
    "        # count only if the center word is in vocab\n",
    "        if center in V:\n",
    "\n",
    "            # get the start and end idx of window\n",
    "            start = max(0, i - w)\n",
    "            end = min(i + w + 1, len(doc))   # upper bound exclusive\n",
    "\n",
    "            # counting co-occurences\n",
    "            for j in range(start, end):\n",
    "\n",
    "                # skip center word\n",
    "                if j == i:\n",
    "                    continue\n",
    "\n",
    "                # increment counts if doc[j] is in contex vocab\n",
    "                if doc[j] in Vc:\n",
    "                    wv[center][doc[j]] += 1"
   ]
  },
  {
   "cell_type": "code",
   "execution_count": 152,
   "metadata": {},
   "outputs": [
    {
     "data": {
      "text/plain": [
       "defaultdict(collections.Counter,\n",
       "            {'rest': Counter({'for': 2,\n",
       "                      'the': 3,\n",
       "                      'rest': 2,\n",
       "                      'of': 1,\n",
       "                      'day': 1}),\n",
       "             'for': Counter({'rest': 2, 'the': 1, 'of': 1}),\n",
       "             'the': Counter({'rest': 3,\n",
       "                      'for': 1,\n",
       "                      'of': 2,\n",
       "                      'the': 2,\n",
       "                      'day': 1}),\n",
       "             'of': Counter({'for': 1, 'the': 2, 'rest': 1, 'day': 1}),\n",
       "             'day': Counter({'rest': 1, 'of': 1, 'the': 1})})"
      ]
     },
     "execution_count": 152,
     "metadata": {},
     "output_type": "execute_result"
    }
   ],
   "source": [
    "# sanity check with toy example\n",
    "wv = defaultdict(Counter)\n",
    "distrib_counting(\n",
    "    doc=['rest', 'for', 'the', 'rest', 'of', 'the', 'day'],\n",
    "    w=3, \n",
    "    V=set(['day', 'for', 'of', 'rest', 'the']),\n",
    "    Vc=set(['day', 'for', 'of', 'rest', 'the']),\n",
    "    wv=wv\n",
    ")\n",
    "wv"
   ]
  },
  {
   "cell_type": "code",
   "execution_count": 153,
   "metadata": {},
   "outputs": [
    {
     "data": {
      "text/plain": [
       "defaultdict(collections.Counter,\n",
       "            {'rest': Counter({'for': 2, 'rest': 2, 'day': 1}),\n",
       "             'for': Counter({'rest': 2}),\n",
       "             'the': Counter({'rest': 3, 'for': 1, 'day': 1}),\n",
       "             'of': Counter({'for': 1, 'rest': 1, 'day': 1}),\n",
       "             'day': Counter({'rest': 1})})"
      ]
     },
     "execution_count": 153,
     "metadata": {},
     "output_type": "execute_result"
    }
   ],
   "source": [
    "# sanity check with toy example\n",
    "wv = defaultdict(Counter)\n",
    "distrib_counting(\n",
    "    doc=['rest', 'for', 'the', 'rest', 'of', 'the', 'day'],\n",
    "    w=3, \n",
    "    V=set(['day', 'for', 'of', 'rest', 'the']),\n",
    "    Vc=set(['day', 'for', 'rest']),\n",
    "    wv=wv\n",
    ")\n",
    "wv"
   ]
  },
  {
   "cell_type": "markdown",
   "metadata": {},
   "source": [
    "### 1.2 run distributional counting on data"
   ]
  },
  {
   "cell_type": "code",
   "execution_count": 154,
   "metadata": {},
   "outputs": [],
   "source": [
    "def process_corpus(corpus_path, V, Vc, w):\n",
    "\n",
    "    \"\"\" \n",
    "    apply distrib_counting() to each doc in corpus and return sparsely represented final word vecs.\n",
    "    inputs:\n",
    "        - corpus_path: string; path to txt corpus where each line is a space-seperated document\n",
    "        - V: set of words; vocabulary\n",
    "        - Vc: set of words; context vocabulary\n",
    "        - w: integer; window size\n",
    "    outputs: \n",
    "        - wv: sparsely represented final word vecs computed across all docs in the corpus\n",
    "    \"\"\"\n",
    "\n",
    "    # initialize co-occurence counts storage: V - Vc - counts\n",
    "    wv = defaultdict(Counter)\n",
    "\n",
    "    # process corpus\n",
    "    with open(corpus_path, 'r') as file:\n",
    "\n",
    "        for i, line in enumerate(file):\n",
    "\n",
    "            # # only process a subset of corpus for testing\n",
    "            # if i >= 10:\n",
    "            #     break\n",
    "\n",
    "            # # print progress\n",
    "            # if i % 100 == 0: print(f'document {i}')\n",
    "        \n",
    "            # split string into list of words\n",
    "            doc = line.split()\n",
    "            \n",
    "            # count co-occurences in doc\n",
    "            distrib_counting(\n",
    "                doc=doc,\n",
    "                w=w, \n",
    "                V=V,\n",
    "                Vc=Vc,\n",
    "                wv=wv\n",
    "            )\n",
    "\n",
    "    return wv"
   ]
  },
  {
   "cell_type": "code",
   "execution_count": 155,
   "metadata": {},
   "outputs": [
    {
     "data": {
      "text/plain": [
       "15228"
      ]
     },
     "execution_count": 155,
     "metadata": {},
     "output_type": "execute_result"
    }
   ],
   "source": [
    "# load vocab-15kws.txt\n",
    "vocab15kws_path = 'data/vocab-15kws.txt'\n",
    "with open(vocab15kws_path, 'r') as file:\n",
    "    vocab15kws = set(file.read().splitlines())\n",
    "len(vocab15kws)"
   ]
  },
  {
   "cell_type": "code",
   "execution_count": 156,
   "metadata": {},
   "outputs": [
    {
     "data": {
      "text/plain": [
       "5000"
      ]
     },
     "execution_count": 156,
     "metadata": {},
     "output_type": "execute_result"
    }
   ],
   "source": [
    "# load vocab-5k.txt\n",
    "vocab5k_path = 'data/vocab-5k.txt'\n",
    "with open(vocab5k_path, 'r') as file:\n",
    "    vocab5k = set(file.read().splitlines())\n",
    "len(vocab5k)"
   ]
  },
  {
   "cell_type": "code",
   "execution_count": 157,
   "metadata": {},
   "outputs": [],
   "source": [
    "# set corpus path\n",
    "corpus_path = 'data/wiki-1percent.txt'"
   ]
  },
  {
   "cell_type": "markdown",
   "metadata": {},
   "source": [
    "#### w = 3"
   ]
  },
  {
   "cell_type": "code",
   "execution_count": 158,
   "metadata": {},
   "outputs": [],
   "source": [
    "# w = 3\n",
    "wv_V15k_Vc5k_win3 = process_corpus(\n",
    "                        corpus_path=corpus_path,\n",
    "                        V=vocab15kws,\n",
    "                        Vc=vocab5k,\n",
    "                        w=3\n",
    "                    )"
   ]
  },
  {
   "cell_type": "code",
   "execution_count": 27,
   "metadata": {},
   "outputs": [
    {
     "data": {
      "text/plain": [
       "['results/wv_V15k_Vc5k_win3.pkl']"
      ]
     },
     "execution_count": 27,
     "metadata": {},
     "output_type": "execute_result"
    }
   ],
   "source": [
    "# save\n",
    "joblib.dump(wv_V15k_Vc5k_win3, 'results/wv_V15k_Vc5k_win3.pkl')"
   ]
  },
  {
   "cell_type": "code",
   "execution_count": 159,
   "metadata": {},
   "outputs": [
    {
     "data": {
      "text/plain": [
       "4"
      ]
     },
     "execution_count": 159,
     "metadata": {},
     "output_type": "execute_result"
    }
   ],
   "source": [
    "# retrieve co-occurence counts\n",
    "wv_V15k_Vc5k_win3['coffee']['coffee']"
   ]
  },
  {
   "cell_type": "markdown",
   "metadata": {},
   "source": [
    "#### w = 6"
   ]
  },
  {
   "cell_type": "code",
   "execution_count": 35,
   "metadata": {},
   "outputs": [],
   "source": [
    "# w = 6\n",
    "wv_V15k_Vc5k_win6 = process_corpus(\n",
    "                        corpus_path=corpus_path,\n",
    "                        V=vocab15kws,\n",
    "                        Vc=vocab5k,\n",
    "                        w=6\n",
    "                    )"
   ]
  },
  {
   "cell_type": "code",
   "execution_count": 36,
   "metadata": {},
   "outputs": [
    {
     "data": {
      "text/plain": [
       "['results/wv_V15k_Vc5k_win6.pkl']"
      ]
     },
     "execution_count": 36,
     "metadata": {},
     "output_type": "execute_result"
    }
   ],
   "source": [
    "# save\n",
    "joblib.dump(wv_V15k_Vc5k_win6, 'results/wv_V15k_Vc5k_win6.pkl')"
   ]
  },
  {
   "cell_type": "code",
   "execution_count": 166,
   "metadata": {},
   "outputs": [
    {
     "data": {
      "text/plain": [
       "36"
      ]
     },
     "execution_count": 166,
     "metadata": {},
     "output_type": "execute_result"
    }
   ],
   "source": [
    "# retrieve co-occurence counts\n",
    "wv_V15k_Vc5k_win6['coffee']['coffee']"
   ]
  },
  {
   "cell_type": "markdown",
   "metadata": {},
   "source": [
    "### 1.3 evalWS on distributional counting"
   ]
  },
  {
   "cell_type": "code",
   "execution_count": 167,
   "metadata": {},
   "outputs": [],
   "source": [
    "def cos_sim(a, b):\n",
    "\n",
    "    ab_dot = a@b\n",
    "    ab_norm = np.linalg.norm(a) * np.linalg.norm(b)\n",
    "\n",
    "    if ab_norm:   # if both word vectors have length\n",
    "        return ab_dot / ab_norm\n",
    "    else:   # if either word has a 0-length word vector, define cos_sim as 0\n",
    "        return 0\n",
    "\n",
    "\n",
    "def cos_sim_sparse(w1, w2, Vc, wv_sparse):\n",
    "\n",
    "    \"\"\" \n",
    "    inputs:\n",
    "        - w1, w2: string; the two words to compute cosine similarity between\n",
    "        - Vc: set of words; context vocabulary\n",
    "        - wv_sparse: defaultdict; mapping V - Vc - counts\n",
    "    outputs: \n",
    "        - cos_sim between w1 and w2 computed using model wv_sparse\n",
    "    \"\"\"\n",
    "\n",
    "    ab_dot = 0\n",
    "    for w_context in Vc:   # we retrieve context word counts for w1 and w2 in the same iter so no need to convert Vc from set to list\n",
    "        ab_dot += wv_sparse[w1][w_context] * wv_sparse[w2][w_context]\n",
    "\n",
    "    ab_norm = np.linalg.norm(list(wv_sparse[w1].values())) * np.linalg.norm(list(wv_sparse[w2].values()))  # 0 entries does not matter for 2-norm\n",
    "\n",
    "    if ab_norm:   # if both word vectors have length\n",
    "        return ab_dot / ab_norm\n",
    "    else:   # if either word has a 0-length word vector, define cos_sim as 0\n",
    "        return 0"
   ]
  },
  {
   "cell_type": "code",
   "execution_count": 168,
   "metadata": {},
   "outputs": [
    {
     "data": {
      "text/plain": [
       "0.895510424327929"
      ]
     },
     "execution_count": 168,
     "metadata": {},
     "output_type": "execute_result"
    }
   ],
   "source": [
    "# sanity check\n",
    "cos_sim_sparse(w1='sun', w2='sunlight', Vc=vocab5k, wv_sparse=wv_V15k_Vc5k_win3)"
   ]
  },
  {
   "cell_type": "code",
   "execution_count": 169,
   "metadata": {},
   "outputs": [],
   "source": [
    "def evalWS(word_pairs, wv, Vc, true_sims):\n",
    "\n",
    "    \"\"\" \n",
    "    inputs:\n",
    "        - word_pairs: list of 2-word tuples to compute cosine similarity between\n",
    "        - wv: defaultdict; wv model to be evaluated, mapping V - Vc - counts\n",
    "        - Vc: set of words; context vocabulary\n",
    "        - true_sims: 1d array of ground-truth similarity of each word_pair\n",
    "    outputs: \n",
    "        - spearmanr between true_sims and wv_sims\n",
    "    \"\"\"\n",
    "\n",
    "    # get wv similarity for word_pairs\n",
    "    wv_sims = []\n",
    "    for w1, w2 in word_pairs:\n",
    "        wv_sims.append(cos_sim_sparse(w1=w1, w2=w2, Vc=Vc, wv_sparse=wv))\n",
    "    \n",
    "    # compute spearmanr between true_sims and wv_sims\n",
    "    return spearmanr(true_sims, wv_sims)"
   ]
  },
  {
   "cell_type": "markdown",
   "metadata": {},
   "source": [
    "#### simlex-999"
   ]
  },
  {
   "cell_type": "code",
   "execution_count": 170,
   "metadata": {},
   "outputs": [
    {
     "name": "stdout",
     "output_type": "stream",
     "text": [
      "simlex999_words len: 999; simlex999_sims len: 999\n"
     ]
    }
   ],
   "source": [
    "# load simlex-999\n",
    "simlex999_path = 'data/simlex-999.txt'\n",
    "\n",
    "simlex999_words, simlex999_sims = [], []\n",
    "with open(simlex999_path, 'r') as file:\n",
    "    for line in file.read().splitlines()[1:]:\n",
    "        w1, w2, sim = line.strip().split()\n",
    "        simlex999_words.append((w1, w2))\n",
    "        simlex999_sims.append(float(sim))\n",
    "simlex999_sims = np.array(simlex999_sims)\n",
    "\n",
    "print(f'simlex999_words len: {len(simlex999_words)}; simlex999_sims len: {len(simlex999_sims)}')"
   ]
  },
  {
   "cell_type": "code",
   "execution_count": 200,
   "metadata": {},
   "outputs": [
    {
     "data": {
      "text/plain": [
       "SpearmanrResult(correlation=0.05876135331349779, pvalue=0.06337563925440041)"
      ]
     },
     "execution_count": 200,
     "metadata": {},
     "output_type": "execute_result"
    }
   ],
   "source": [
    "eval_V15k_Vc5k_win3_counts_simlex = evalWS(word_pairs=simlex999_words, wv=wv_V15k_Vc5k_win3, Vc=vocab5k, true_sims=simlex999_sims)\n",
    "eval_V15k_Vc5k_win3_counts_simlex"
   ]
  },
  {
   "cell_type": "markdown",
   "metadata": {},
   "source": [
    "#### MEN"
   ]
  },
  {
   "cell_type": "code",
   "execution_count": 172,
   "metadata": {},
   "outputs": [
    {
     "name": "stdout",
     "output_type": "stream",
     "text": [
      "MEN_words len: 3000; MEN_sims len: 3000\n"
     ]
    }
   ],
   "source": [
    "# load MEN\n",
    "MEN_path = 'data/men.txt'\n",
    "\n",
    "MEN_words, MEN_sims = [], []\n",
    "with open(MEN_path, 'r') as file:\n",
    "    for line in file.read().splitlines()[1:]:\n",
    "        w1, w2, sim = line.strip().split()\n",
    "        MEN_words.append((w1, w2))\n",
    "        MEN_sims.append(float(sim))\n",
    "MEN_sims = np.array(MEN_sims)\n",
    "\n",
    "print(f'MEN_words len: {len(MEN_words)}; MEN_sims len: {len(MEN_sims)}')"
   ]
  },
  {
   "cell_type": "code",
   "execution_count": 201,
   "metadata": {},
   "outputs": [
    {
     "data": {
      "text/plain": [
       "SpearmanrResult(correlation=0.2251396048448754, pvalue=8.800788745595221e-36)"
      ]
     },
     "execution_count": 201,
     "metadata": {},
     "output_type": "execute_result"
    }
   ],
   "source": [
    "eval_V15k_Vc5k_win3_counts_MEN = evalWS(word_pairs=MEN_words, wv=wv_V15k_Vc5k_win3, Vc=vocab5k, true_sims=MEN_sims)\n",
    "eval_V15k_Vc5k_win3_counts_MEN"
   ]
  },
  {
   "cell_type": "markdown",
   "metadata": {},
   "source": [
    "## 2 Inverse Document Frequency (IDF)"
   ]
  },
  {
   "cell_type": "markdown",
   "metadata": {},
   "source": [
    "### 2.1 implement TF-IDF"
   ]
  },
  {
   "cell_type": "code",
   "execution_count": 174,
   "metadata": {},
   "outputs": [],
   "source": [
    "def IDF(corpus_path, Vc):\n",
    "\n",
    "    # for storing number of doc/sentences containing each word in context vocab\n",
    "    Vc_doc = defaultdict(int)\n",
    "\n",
    "    # process corpus to count Vc occurence\n",
    "    with open(corpus_path, 'r') as file:\n",
    "\n",
    "        for i, line in enumerate(file):\n",
    "        \n",
    "            # split string into list of words, and convert to set to remove duplicates\n",
    "            doc = set(line.split())\n",
    "            \n",
    "            # increment doc count for context vocab\n",
    "            for word in doc:\n",
    "                if word in Vc: Vc_doc[word] += 1\n",
    "\n",
    "    # get total num of docs in corpus\n",
    "    corpus_size = i + 1\n",
    "    print(corpus_size)\n",
    "\n",
    "    # compute IDF: corpus_size / freq\n",
    "    return {word: (corpus_size / doc_count) for word, doc_count in Vc_doc.items()}"
   ]
  },
  {
   "cell_type": "code",
   "execution_count": 175,
   "metadata": {},
   "outputs": [
    {
     "name": "stdout",
     "output_type": "stream",
     "text": [
      "997898\n"
     ]
    }
   ],
   "source": [
    "# compute IDF for Vc\n",
    "Vc_IDF = IDF(corpus_path, vocab5k)"
   ]
  },
  {
   "cell_type": "code",
   "execution_count": 176,
   "metadata": {},
   "outputs": [],
   "source": [
    "def TF_IDF(wv_TF, Vc_IDF):\n",
    "\n",
    "    \"\"\" \n",
    "    combine counts with IDF\n",
    "    \"\"\"\n",
    "\n",
    "    # for storing counts combined with IDF \n",
    "    wv_TF_IDF = defaultdict(Counter)\n",
    "\n",
    "    # iterate through every word pair in original count-based wv\n",
    "    for w_center, w_context_count in wv_TF.items():\n",
    "        for w_context, count in w_context_count.items():\n",
    "            wv_TF_IDF[w_center][w_context] = count * Vc_IDF[w_context]\n",
    "\n",
    "    return wv_TF_IDF"
   ]
  },
  {
   "cell_type": "code",
   "execution_count": 177,
   "metadata": {},
   "outputs": [],
   "source": [
    "# compute TF_IDF for wv_V15k_Vc5k_win3\n",
    "wv_V15k_Vc5k_win3_IDF = TF_IDF(wv_TF=wv_V15k_Vc5k_win3, Vc_IDF=Vc_IDF)"
   ]
  },
  {
   "cell_type": "code",
   "execution_count": 180,
   "metadata": {},
   "outputs": [
    {
     "data": {
      "text/plain": [
       "['results/wv_V15k_Vc5k_win3_IDF.pkl']"
      ]
     },
     "execution_count": 180,
     "metadata": {},
     "output_type": "execute_result"
    }
   ],
   "source": [
    "# save\n",
    "joblib.dump(wv_V15k_Vc5k_win3_IDF, 'results/wv_V15k_Vc5k_win3_IDF.pkl')"
   ]
  },
  {
   "cell_type": "markdown",
   "metadata": {},
   "source": [
    "### 2.2 evalWS on TF-IDF"
   ]
  },
  {
   "cell_type": "code",
   "execution_count": 198,
   "metadata": {},
   "outputs": [
    {
     "data": {
      "text/plain": [
       "SpearmanrResult(correlation=0.1643113945921928, pvalue=1.7660412054828056e-07)"
      ]
     },
     "execution_count": 198,
     "metadata": {},
     "output_type": "execute_result"
    }
   ],
   "source": [
    "# evaluate on simlex999\n",
    "eval_V15k_Vc5k_win3_IDF_simlex = evalWS(word_pairs=simlex999_words, wv=wv_V15k_Vc5k_win3_IDF, Vc=vocab5k, true_sims=simlex999_sims)\n",
    "eval_V15k_Vc5k_win3_IDF_simlex"
   ]
  },
  {
   "cell_type": "code",
   "execution_count": 199,
   "metadata": {},
   "outputs": [
    {
     "data": {
      "text/plain": [
       "SpearmanrResult(correlation=0.47281906258988254, pvalue=5.778624720444274e-167)"
      ]
     },
     "execution_count": 199,
     "metadata": {},
     "output_type": "execute_result"
    }
   ],
   "source": [
    "# evaluate on MEN\n",
    "eval_V15k_Vc5k_win3_IDF_MEN = evalWS(word_pairs=MEN_words, wv=wv_V15k_Vc5k_win3_IDF, Vc=vocab5k, true_sims=MEN_sims)\n",
    "eval_V15k_Vc5k_win3_IDF_MEN"
   ]
  },
  {
   "cell_type": "markdown",
   "metadata": {},
   "source": [
    "## 3 Pointwise Mutual Information (PMI)"
   ]
  },
  {
   "cell_type": "markdown",
   "metadata": {},
   "source": [
    "### 3.1 implement PMI"
   ]
  },
  {
   "cell_type": "code",
   "execution_count": 184,
   "metadata": {},
   "outputs": [],
   "source": [
    "def PMI(wv_TF):\n",
    "    \n",
    "    \"\"\" \n",
    "    compute PMI from count-based wv\n",
    "    \"\"\"\n",
    "\n",
    "    # for storing (non-normalized) px, py, N\n",
    "    px = defaultdict(int)\n",
    "    py = defaultdict(int)\n",
    "    N = 0\n",
    "\n",
    "    # count (non-normalized) px, py, N\n",
    "    for w_center, w_context_count in wv_TF.items():\n",
    "        for w_context, count in w_context_count.items():\n",
    "            px[w_center] += count\n",
    "            py[w_context] += count\n",
    "            N += count\n",
    "\n",
    "\n",
    "    # for storing PMI wv\n",
    "    wv_PMI = defaultdict(Counter)\n",
    "\n",
    "    # compute PMI\n",
    "    for w_center, w_context_count in wv_TF.items():\n",
    "        for w_context, count in w_context_count.items():\n",
    "            wv_PMI[w_center][w_context] = math.log2(count * N / (px[w_center] * py[w_context]))\n",
    "\n",
    "    return wv_PMI"
   ]
  },
  {
   "cell_type": "code",
   "execution_count": 185,
   "metadata": {},
   "outputs": [],
   "source": [
    "# compute PMI from wv_V15k_Vc5k_win3\n",
    "wv_V15k_Vc5k_win3_PMI = PMI(wv_TF=wv_V15k_Vc5k_win3)"
   ]
  },
  {
   "cell_type": "code",
   "execution_count": 186,
   "metadata": {},
   "outputs": [
    {
     "data": {
      "text/plain": [
       "['results/wv_V15k_Vc5k_win3_PMI.pkl']"
      ]
     },
     "execution_count": 186,
     "metadata": {},
     "output_type": "execute_result"
    }
   ],
   "source": [
    "# save\n",
    "joblib.dump(wv_V15k_Vc5k_win3_PMI, 'results/wv_V15k_Vc5k_win3_PMI.pkl')"
   ]
  },
  {
   "cell_type": "code",
   "execution_count": 190,
   "metadata": {},
   "outputs": [],
   "source": [
    "# sort PMI context words for coffee from high to low\n",
    "coffee_low_high = sorted(wv_V15k_Vc5k_win3_PMI['coffee'].items(), \n",
    "                         key = lambda item: item[1],\n",
    "                         reverse=True)"
   ]
  },
  {
   "cell_type": "code",
   "execution_count": 193,
   "metadata": {},
   "outputs": [
    {
     "name": "stdout",
     "output_type": "stream",
     "text": [
      "highest PMI: \n",
      "('tea', 8.16600126243293)\n",
      "('drinking', 7.58797865873193)\n",
      "('shop', 7.411693771493207)\n",
      "('costa', 7.350256393786161)\n",
      "('shops', 7.260751873418467)\n",
      "('sugar', 6.533949521544205)\n",
      "('coffee', 6.501977131805925)\n",
      "('mix', 6.131195903101976)\n",
      "('seattle', 5.950816325067398)\n",
      "('houses', 5.868161497268183)\n",
      "\n",
      "\n",
      "lowest PMI: \n",
      "('he', -2.26033826495274)\n",
      "('be', -2.1509730526875237)\n",
      "('had', -1.9875291676196303)\n",
      "('this', -1.979549817934235)\n",
      "('not', -1.9115928402014317)\n",
      "('its', -1.839457915441101)\n",
      "('after', -1.598505205571959)\n",
      "('more', -1.4785257922880328)\n",
      "('when', -1.4043486976803334)\n",
      "('page', -1.2805627423998573)\n"
     ]
    }
   ],
   "source": [
    "# print 10 highest\n",
    "print('highest PMI: ')\n",
    "for i in range(10):\n",
    "    print(coffee_low_high[i])\n",
    "\n",
    "# print 10 lowest\n",
    "print('\\n')\n",
    "print('lowest PMI: ')\n",
    "for i in range(1, 11):\n",
    "    print(coffee_low_high[-i])"
   ]
  },
  {
   "cell_type": "markdown",
   "metadata": {},
   "source": [
    "### 3.2 evalWS on PMI-based word vectors"
   ]
  },
  {
   "cell_type": "code",
   "execution_count": 196,
   "metadata": {},
   "outputs": [
    {
     "data": {
      "text/plain": [
       "SpearmanrResult(correlation=0.18643183126956037, pvalue=2.8976468276084516e-09)"
      ]
     },
     "execution_count": 196,
     "metadata": {},
     "output_type": "execute_result"
    }
   ],
   "source": [
    "# evaluate on simlex999\n",
    "eval_V15k_Vc5k_win3_PMI_simlex = evalWS(word_pairs=simlex999_words, wv=wv_V15k_Vc5k_win3_PMI, Vc=vocab5k, true_sims=simlex999_sims)\n",
    "eval_V15k_Vc5k_win3_PMI_simlex"
   ]
  },
  {
   "cell_type": "code",
   "execution_count": 197,
   "metadata": {},
   "outputs": [
    {
     "data": {
      "text/plain": [
       "SpearmanrResult(correlation=0.46563240836038006, pvalue=2.5050388889148127e-161)"
      ]
     },
     "execution_count": 197,
     "metadata": {},
     "output_type": "execute_result"
    }
   ],
   "source": [
    "# evaluate on MEN\n",
    "eval_V15k_Vc5k_win3_PMI_MEN = evalWS(word_pairs=MEN_words, wv=wv_V15k_Vc5k_win3_PMI, Vc=vocab5k, true_sims=MEN_sims)\n",
    "eval_V15k_Vc5k_win3_PMI_MEN"
   ]
  },
  {
   "cell_type": "markdown",
   "metadata": {},
   "source": [
    "## 4 Quantitative Comparisons"
   ]
  },
  {
   "cell_type": "markdown",
   "metadata": {},
   "source": [
    "### 4.1 evalWS comparison  \n",
    "(Vc=vocab15kws, Vc=vocab5k) x (w=1, w=3, w=6) x (counts, IDF, PMI) x (simlex999, MEN)"
   ]
  },
  {
   "cell_type": "code",
   "execution_count": 203,
   "metadata": {},
   "outputs": [
    {
     "data": {
      "text/plain": [
       "array([[0.05876135, 0.2251396 ],\n",
       "       [0.16431139, 0.47281906],\n",
       "       [0.18643183, 0.46563241]])"
      ]
     },
     "execution_count": 203,
     "metadata": {},
     "output_type": "execute_result"
    }
   ],
   "source": [
    "# w = 3, Vc = vocab5k\n",
    "# shape: num methods (counts, IDF, PMI) x num test dataset (simlex999, MEN)\n",
    "\n",
    "eval_V15k_Vc5k_win3_MxT = np.array([\n",
    "    [eval_V15k_Vc5k_win3_counts_simlex[0], eval_V15k_Vc5k_win3_counts_MEN[0]],\n",
    "    [eval_V15k_Vc5k_win3_IDF_simlex[0], eval_V15k_Vc5k_win3_IDF_MEN[0]],\n",
    "    [eval_V15k_Vc5k_win3_PMI_simlex[0], eval_V15k_Vc5k_win3_PMI_MEN[0]]\n",
    "])\n",
    "eval_V15k_Vc5k_win3_MxT"
   ]
  },
  {
   "cell_type": "code",
   "execution_count": 204,
   "metadata": {},
   "outputs": [],
   "source": [
    "def train_eval_3wv(corpus_path, V, Vc, w):\n",
    "\n",
    "    # compute count-based wv\n",
    "    wv_counts = process_corpus(\n",
    "                            corpus_path=corpus_path,\n",
    "                            V=V,\n",
    "                            Vc=Vc,\n",
    "                            w=w\n",
    "                        )\n",
    "\n",
    "    # eval wv_counts\n",
    "    eval_counts_simlex = evalWS(word_pairs=simlex999_words, wv=wv_counts, Vc=Vc, true_sims=simlex999_sims)\n",
    "    eval_counts_MEN = evalWS(word_pairs=MEN_words, wv=wv_counts, Vc=Vc, true_sims=MEN_sims)\n",
    "\n",
    "\n",
    "    # compute IDF for Vc\n",
    "    Vc_IDF = IDF(corpus_path=corpus_path, Vc=Vc)\n",
    "    # compute TF-IDF wv\n",
    "    wv_IDF = TF_IDF(wv_TF=wv_counts, Vc_IDF=Vc_IDF)\n",
    "\n",
    "    # eval wv_IDF\n",
    "    eval_IDF_simlex = evalWS(word_pairs=simlex999_words, wv=wv_IDF, Vc=Vc, true_sims=simlex999_sims)\n",
    "    eval_IDF_MEN = evalWS(word_pairs=MEN_words, wv=wv_IDF, Vc=Vc, true_sims=MEN_sims)\n",
    "\n",
    "\n",
    "    # compute PMI wv\n",
    "    wv_PMI = PMI(wv_TF=wv_counts)\n",
    "\n",
    "    # eval wv_PMI\n",
    "    eval_PMI_simlex = evalWS(word_pairs=simlex999_words, wv=wv_PMI, Vc=Vc, true_sims=simlex999_sims)\n",
    "    eval_PMI_MEN = evalWS(word_pairs=MEN_words, wv=wv_PMI, Vc=Vc, true_sims=MEN_sims)\n",
    "\n",
    "\n",
    "    return np.array([\n",
    "                [eval_counts_simlex[0], eval_counts_MEN[0]],\n",
    "                [eval_IDF_simlex[0], eval_IDF_MEN[0]],\n",
    "                [eval_PMI_simlex[0], eval_PMI_MEN[0]]\n",
    "            ])"
   ]
  },
  {
   "cell_type": "code",
   "execution_count": 205,
   "metadata": {},
   "outputs": [
    {
     "name": "stdout",
     "output_type": "stream",
     "text": [
      "997898\n"
     ]
    },
    {
     "data": {
      "text/plain": [
       "array([[0.0571423 , 0.22077842],\n",
       "       [0.14785292, 0.48095232],\n",
       "       [0.21229185, 0.5193931 ]])"
      ]
     },
     "execution_count": 205,
     "metadata": {},
     "output_type": "execute_result"
    }
   ],
   "source": [
    "# w = 3, Vc = vocab15kws\n",
    "# shape: num methods (counts, IDF, PMI) x num test dataset (simlex999, MEN)\n",
    "\n",
    "eval_V15k_Vc15k_win3_MxT = train_eval_3wv(corpus_path=corpus_path, V=vocab15kws, Vc=vocab15kws, w=3)\n",
    "eval_V15k_Vc15k_win3_MxT"
   ]
  },
  {
   "cell_type": "code",
   "execution_count": 206,
   "metadata": {},
   "outputs": [
    {
     "name": "stdout",
     "output_type": "stream",
     "text": [
      "997898\n"
     ]
    },
    {
     "data": {
      "text/plain": [
       "array([[0.04469576, 0.24106665],\n",
       "       [0.1106035 , 0.53239905],\n",
       "       [0.15033132, 0.47240839]])"
      ]
     },
     "execution_count": 206,
     "metadata": {},
     "output_type": "execute_result"
    }
   ],
   "source": [
    "# w = 6, Vc = vocab5k\n",
    "# shape: num methods (counts, IDF, PMI) x num test dataset (simlex999, MEN)\n",
    "\n",
    "eval_V15k_Vc5k_win6_MxT = train_eval_3wv(corpus_path=corpus_path, V=vocab15kws, Vc=vocab5k, w=6)\n",
    "eval_V15k_Vc5k_win6_MxT"
   ]
  },
  {
   "cell_type": "code",
   "execution_count": 207,
   "metadata": {},
   "outputs": [
    {
     "name": "stdout",
     "output_type": "stream",
     "text": [
      "997898\n"
     ]
    },
    {
     "data": {
      "text/plain": [
       "array([[0.04065367, 0.23691122],\n",
       "       [0.10878207, 0.52510904],\n",
       "       [0.16091152, 0.52741609]])"
      ]
     },
     "execution_count": 207,
     "metadata": {},
     "output_type": "execute_result"
    }
   ],
   "source": [
    "# w = 6, Vc = vocab15kws\n",
    "# shape: num methods (counts, IDF, PMI) x num test dataset (simlex999, MEN)\n",
    "\n",
    "eval_V15k_Vc15k_win6_MxT = train_eval_3wv(corpus_path=corpus_path, V=vocab15kws, Vc=vocab15kws, w=6)\n",
    "eval_V15k_Vc15k_win6_MxT"
   ]
  },
  {
   "cell_type": "code",
   "execution_count": 208,
   "metadata": {},
   "outputs": [
    {
     "name": "stdout",
     "output_type": "stream",
     "text": [
      "997898\n"
     ]
    },
    {
     "data": {
      "text/plain": [
       "array([[0.0677857 , 0.20909154],\n",
       "       [0.18922878, 0.34755926],\n",
       "       [0.2274977 , 0.43360313]])"
      ]
     },
     "execution_count": 208,
     "metadata": {},
     "output_type": "execute_result"
    }
   ],
   "source": [
    "# w = 1, Vc = vocab5k\n",
    "# shape: num methods (counts, IDF, PMI) x num test dataset (simlex999, MEN)\n",
    "\n",
    "eval_V15k_Vc5k_win1_MxT = train_eval_3wv(corpus_path=corpus_path, V=vocab15kws, Vc=vocab5k, w=1)\n",
    "eval_V15k_Vc5k_win1_MxT"
   ]
  },
  {
   "cell_type": "code",
   "execution_count": 209,
   "metadata": {},
   "outputs": [
    {
     "name": "stdout",
     "output_type": "stream",
     "text": [
      "997898\n"
     ]
    },
    {
     "data": {
      "text/plain": [
       "array([[0.07001369, 0.20639763],\n",
       "       [0.18719989, 0.36616805],\n",
       "       [0.26806515, 0.47023687]])"
      ]
     },
     "execution_count": 209,
     "metadata": {},
     "output_type": "execute_result"
    }
   ],
   "source": [
    "# w = 1, Vc = vocab15kws\n",
    "# shape: num methods (counts, IDF, PMI) x num test dataset (simlex999, MEN)\n",
    "\n",
    "eval_V15k_Vc15k_win1_MxT = train_eval_3wv(corpus_path=corpus_path, V=vocab15kws, Vc=vocab15kws, w=1)\n",
    "eval_V15k_Vc15k_win1_MxT"
   ]
  },
  {
   "cell_type": "code",
   "execution_count": 212,
   "metadata": {},
   "outputs": [
    {
     "data": {
      "text/plain": [
       "(2, 3, 3, 2)"
      ]
     },
     "execution_count": 212,
     "metadata": {},
     "output_type": "execute_result"
    }
   ],
   "source": [
    "# putting all results together\n",
    "# shape: (Vc5k, Vc15k) x (win1, win3, win6) x (counts, IDF, PMI) x (simlex, MEN)\n",
    "\n",
    "eval_V15k = np.stack([\n",
    "                np.stack([eval_V15k_Vc5k_win1_MxT, eval_V15k_Vc5k_win3_MxT, eval_V15k_Vc5k_win6_MxT]),\n",
    "                np.stack([eval_V15k_Vc15k_win1_MxT, eval_V15k_Vc15k_win3_MxT, eval_V15k_Vc15k_win6_MxT])\n",
    "            ])\n",
    "eval_V15k.shape"
   ]
  },
  {
   "cell_type": "code",
   "execution_count": 213,
   "metadata": {},
   "outputs": [
    {
     "data": {
      "text/plain": [
       "['results/eval_V15k.pkl']"
      ]
     },
     "execution_count": 213,
     "metadata": {},
     "output_type": "execute_result"
    }
   ],
   "source": [
    "# save\n",
    "joblib.dump(eval_V15k, 'results/eval_V15k.pkl')"
   ]
  },
  {
   "cell_type": "code",
   "execution_count": 232,
   "metadata": {},
   "outputs": [
    {
     "data": {
      "image/png": "[encoded data removed]",
      "text/plain": [
       "<Figure size 864x864 with 8 Axes>"
      ]
     },
     "metadata": {
      "needs_background": "light"
     },
     "output_type": "display_data"
    }
   ],
   "source": [
    "# methods x win\n",
    "\n",
    "fig, ax = plt.subplots(figsize=(12, 12), nrows=2, ncols=2)\n",
    "\n",
    "\n",
    "ax[0][0].set_title('Vc5k, simlex999')\n",
    "sns.heatmap(eval_V15k[0,:,:,0], \n",
    "            fmt='.4f',\n",
    "            vmin=0,\n",
    "            vmax=0.6,\n",
    "            annot=True, \n",
    "            square=True,\n",
    "            xticklabels=['counts', 'IDF', 'PMI'],   # x axis is dim 2 in slice\n",
    "            yticklabels=['win1', 'win3', 'win6'],   # y axis is dim 1 in slice\n",
    "            ax=ax[0][0])\n",
    "\n",
    "\n",
    "ax[0][1].set_title('Vc5k, MEN')\n",
    "sns.heatmap(eval_V15k[0,:,:,1], \n",
    "            fmt='.4f',\n",
    "            vmin=0,\n",
    "            vmax=0.6,\n",
    "            annot=True, \n",
    "            square=True,\n",
    "            xticklabels=['counts', 'IDF', 'PMI'],\n",
    "            yticklabels=['win1', 'win3', 'win6'],\n",
    "            ax=ax[0][1])\n",
    "\n",
    "\n",
    "ax[1][0].set_title('Vc15k, simlex999')\n",
    "sns.heatmap(eval_V15k[1,:,:,0],\n",
    "            fmt='.4f', \n",
    "            vmin=0,\n",
    "            vmax=0.6,\n",
    "            annot=True, \n",
    "            square=True,\n",
    "            xticklabels=['counts', 'IDF', 'PMI'],\n",
    "            yticklabels=['win1', 'win3', 'win6'],\n",
    "            ax=ax[1][0])\n",
    "\n",
    "\n",
    "ax[1][1].set_title('Vc15k, MEN')\n",
    "sns.heatmap(eval_V15k[1,:,:,1],\n",
    "            fmt='.4f', \n",
    "            vmin=0,\n",
    "            vmax=0.6,\n",
    "            annot=True, \n",
    "            square=True,\n",
    "            xticklabels=['counts', 'IDF', 'PMI'],\n",
    "            yticklabels=['win1', 'win3', 'win6'],\n",
    "            ax=ax[1][1])\n",
    "\n",
    "\n",
    "plt.suptitle('EvalWS Correlation Score')\n",
    "plt.tight_layout()"
   ]
  },
  {
   "cell_type": "markdown",
   "metadata": {},
   "source": [
    "### 4.2 notion of similarity in simlex999 vs MEN  \n",
    "(see report)"
   ]
  },
  {
   "cell_type": "markdown",
   "metadata": {},
   "source": [
    "## 5 Qualitative Analysis"
   ]
  },
  {
   "cell_type": "code",
   "execution_count": null,
   "metadata": {},
   "outputs": [],
   "source": []
  },
  {
   "cell_type": "code",
   "execution_count": null,
   "metadata": {},
   "outputs": [],
   "source": []
  },
  {
   "cell_type": "code",
   "execution_count": null,
   "metadata": {},
   "outputs": [],
   "source": []
  }
 ],
 "metadata": {
  "kernelspec": {
   "display_name": "base",
   "language": "python",
   "name": "python3"
  },
  "language_info": {
   "codemirror_mode": {
    "name": "ipython",
    "version": 3
   },
   "file_extension": ".py",
   "mimetype": "text/x-python",
   "name": "python",
   "nbconvert_exporter": "python",
   "pygments_lexer": "ipython3",
   "version": "3.8.3"
  }
 },
 "nbformat": 4,
 "nbformat_minor": 2
}
